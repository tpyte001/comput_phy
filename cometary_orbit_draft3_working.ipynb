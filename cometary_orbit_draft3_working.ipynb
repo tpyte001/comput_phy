{
  "nbformat": 4,
  "nbformat_minor": 0,
  "metadata": {
    "colab": {
      "provenance": [],
      "authorship_tag": "ABX9TyMzejK1OU8aSRIu7tms4cMK",
      "include_colab_link": true
    },
    "kernelspec": {
      "name": "python3",
      "display_name": "Python 3"
    },
    "language_info": {
      "name": "python"
    }
  },
  "cells": [
    {
      "cell_type": "markdown",
      "metadata": {
        "id": "view-in-github",
        "colab_type": "text"
      },
      "source": [
        "<a href=\"https://colab.research.google.com/github/tpyte001/comput_phy/blob/main/cometary_orbit_draft3_working.ipynb\" target=\"_parent\"><img src=\"https://colab.research.google.com/assets/colab-badge.svg\" alt=\"Open In Colab\"/></a>"
      ]
    },
    {
      "cell_type": "code",
      "execution_count": 63,
      "metadata": {
        "colab": {
          "base_uri": "https://localhost:8080/",
          "height": 635
        },
        "id": "ZBUrlOYu2KMf",
        "outputId": "f5817be6-3758-4172-d42d-1ccc0afa025c"
      },
      "outputs": [
        {
          "output_type": "error",
          "ename": "ValueError",
          "evalue": "ignored",
          "traceback": [
            "\u001b[0;31m---------------------------------------------------------------------------\u001b[0m",
            "\u001b[0;31mValueError\u001b[0m                                Traceback (most recent call last)",
            "\u001b[0;32m<ipython-input-63-1f7175f7510f>\u001b[0m in \u001b[0;36m<module>\u001b[0;34m\u001b[0m\n\u001b[1;32m    105\u001b[0m \u001b[0mplt\u001b[0m\u001b[0;34m.\u001b[0m\u001b[0mplot\u001b[0m\u001b[0;34m(\u001b[0m\u001b[0mxlist\u001b[0m\u001b[0;34m,\u001b[0m\u001b[0mylist\u001b[0m\u001b[0;34m)\u001b[0m\u001b[0;34m\u001b[0m\u001b[0;34m\u001b[0m\u001b[0m\n\u001b[1;32m    106\u001b[0m \u001b[0mplt\u001b[0m\u001b[0;34m.\u001b[0m\u001b[0mplot\u001b[0m\u001b[0;34m(\u001b[0m\u001b[0;36m0\u001b[0m\u001b[0;34m,\u001b[0m\u001b[0;36m0\u001b[0m\u001b[0;34m,\u001b[0m \u001b[0;34m\"o r\"\u001b[0m\u001b[0;34m)\u001b[0m\u001b[0;34m\u001b[0m\u001b[0;34m\u001b[0m\u001b[0m\n\u001b[0;32m--> 107\u001b[0;31m \u001b[0mplt\u001b[0m\u001b[0;34m.\u001b[0m\u001b[0mannotate\u001b[0m\u001b[0;34m(\u001b[0m\u001b[0;34m[\u001b[0m\u001b[0;36m0\u001b[0m\u001b[0;34m,\u001b[0m\u001b[0;36m0\u001b[0m\u001b[0;34m]\u001b[0m\u001b[0;34m,\u001b[0m\u001b[0;34m\"sun\"\u001b[0m\u001b[0;34m)\u001b[0m\u001b[0;34m\u001b[0m\u001b[0;34m\u001b[0m\u001b[0m\n\u001b[0m",
            "\u001b[0;32m/usr/local/lib/python3.8/dist-packages/matplotlib/pyplot.py\u001b[0m in \u001b[0;36mannotate\u001b[0;34m(s, xy, *args, **kwargs)\u001b[0m\n\u001b[1;32m   2355\u001b[0m \u001b[0;34m@\u001b[0m\u001b[0mdocstring\u001b[0m\u001b[0;34m.\u001b[0m\u001b[0mcopy\u001b[0m\u001b[0;34m(\u001b[0m\u001b[0mAxes\u001b[0m\u001b[0;34m.\u001b[0m\u001b[0mannotate\u001b[0m\u001b[0;34m)\u001b[0m\u001b[0;34m\u001b[0m\u001b[0;34m\u001b[0m\u001b[0m\n\u001b[1;32m   2356\u001b[0m \u001b[0;32mdef\u001b[0m \u001b[0mannotate\u001b[0m\u001b[0;34m(\u001b[0m\u001b[0ms\u001b[0m\u001b[0;34m,\u001b[0m \u001b[0mxy\u001b[0m\u001b[0;34m,\u001b[0m \u001b[0;34m*\u001b[0m\u001b[0margs\u001b[0m\u001b[0;34m,\u001b[0m \u001b[0;34m**\u001b[0m\u001b[0mkwargs\u001b[0m\u001b[0;34m)\u001b[0m\u001b[0;34m:\u001b[0m\u001b[0;34m\u001b[0m\u001b[0;34m\u001b[0m\u001b[0m\n\u001b[0;32m-> 2357\u001b[0;31m     \u001b[0;32mreturn\u001b[0m \u001b[0mgca\u001b[0m\u001b[0;34m(\u001b[0m\u001b[0;34m)\u001b[0m\u001b[0;34m.\u001b[0m\u001b[0mannotate\u001b[0m\u001b[0;34m(\u001b[0m\u001b[0ms\u001b[0m\u001b[0;34m,\u001b[0m \u001b[0mxy\u001b[0m\u001b[0;34m,\u001b[0m \u001b[0;34m*\u001b[0m\u001b[0margs\u001b[0m\u001b[0;34m,\u001b[0m \u001b[0;34m**\u001b[0m\u001b[0mkwargs\u001b[0m\u001b[0;34m)\u001b[0m\u001b[0;34m\u001b[0m\u001b[0;34m\u001b[0m\u001b[0m\n\u001b[0m\u001b[1;32m   2358\u001b[0m \u001b[0;34m\u001b[0m\u001b[0m\n\u001b[1;32m   2359\u001b[0m \u001b[0;34m\u001b[0m\u001b[0m\n",
            "\u001b[0;32m/usr/local/lib/python3.8/dist-packages/matplotlib/axes/_axes.py\u001b[0m in \u001b[0;36mannotate\u001b[0;34m(self, s, xy, *args, **kwargs)\u001b[0m\n\u001b[1;32m    776\u001b[0m     \u001b[0;34m@\u001b[0m\u001b[0mdocstring\u001b[0m\u001b[0;34m.\u001b[0m\u001b[0mdedent_interpd\u001b[0m\u001b[0;34m\u001b[0m\u001b[0;34m\u001b[0m\u001b[0m\n\u001b[1;32m    777\u001b[0m     \u001b[0;32mdef\u001b[0m \u001b[0mannotate\u001b[0m\u001b[0;34m(\u001b[0m\u001b[0mself\u001b[0m\u001b[0;34m,\u001b[0m \u001b[0ms\u001b[0m\u001b[0;34m,\u001b[0m \u001b[0mxy\u001b[0m\u001b[0;34m,\u001b[0m \u001b[0;34m*\u001b[0m\u001b[0margs\u001b[0m\u001b[0;34m,\u001b[0m \u001b[0;34m**\u001b[0m\u001b[0mkwargs\u001b[0m\u001b[0;34m)\u001b[0m\u001b[0;34m:\u001b[0m\u001b[0;34m\u001b[0m\u001b[0;34m\u001b[0m\u001b[0m\n\u001b[0;32m--> 778\u001b[0;31m         \u001b[0ma\u001b[0m \u001b[0;34m=\u001b[0m \u001b[0mmtext\u001b[0m\u001b[0;34m.\u001b[0m\u001b[0mAnnotation\u001b[0m\u001b[0;34m(\u001b[0m\u001b[0ms\u001b[0m\u001b[0;34m,\u001b[0m \u001b[0mxy\u001b[0m\u001b[0;34m,\u001b[0m \u001b[0;34m*\u001b[0m\u001b[0margs\u001b[0m\u001b[0;34m,\u001b[0m \u001b[0;34m**\u001b[0m\u001b[0mkwargs\u001b[0m\u001b[0;34m)\u001b[0m\u001b[0;34m\u001b[0m\u001b[0;34m\u001b[0m\u001b[0m\n\u001b[0m\u001b[1;32m    779\u001b[0m         \u001b[0ma\u001b[0m\u001b[0;34m.\u001b[0m\u001b[0mset_transform\u001b[0m\u001b[0;34m(\u001b[0m\u001b[0mmtransforms\u001b[0m\u001b[0;34m.\u001b[0m\u001b[0mIdentityTransform\u001b[0m\u001b[0;34m(\u001b[0m\u001b[0;34m)\u001b[0m\u001b[0;34m)\u001b[0m\u001b[0;34m\u001b[0m\u001b[0;34m\u001b[0m\u001b[0m\n\u001b[1;32m    780\u001b[0m         \u001b[0;32mif\u001b[0m \u001b[0;34m'clip_on'\u001b[0m \u001b[0;32min\u001b[0m \u001b[0mkwargs\u001b[0m\u001b[0;34m:\u001b[0m\u001b[0;34m\u001b[0m\u001b[0;34m\u001b[0m\u001b[0m\n",
            "\u001b[0;32m/usr/local/lib/python3.8/dist-packages/matplotlib/cbook/deprecation.py\u001b[0m in \u001b[0;36mwrapper\u001b[0;34m(*args, **kwargs)\u001b[0m\n\u001b[1;32m    294\u001b[0m                 f\"for the old name will be dropped %(removal)s.\")\n\u001b[1;32m    295\u001b[0m             \u001b[0mkwargs\u001b[0m\u001b[0;34m[\u001b[0m\u001b[0mnew\u001b[0m\u001b[0;34m]\u001b[0m \u001b[0;34m=\u001b[0m \u001b[0mkwargs\u001b[0m\u001b[0;34m.\u001b[0m\u001b[0mpop\u001b[0m\u001b[0;34m(\u001b[0m\u001b[0mold\u001b[0m\u001b[0;34m)\u001b[0m\u001b[0;34m\u001b[0m\u001b[0;34m\u001b[0m\u001b[0m\n\u001b[0;32m--> 296\u001b[0;31m         \u001b[0;32mreturn\u001b[0m \u001b[0mfunc\u001b[0m\u001b[0;34m(\u001b[0m\u001b[0;34m*\u001b[0m\u001b[0margs\u001b[0m\u001b[0;34m,\u001b[0m \u001b[0;34m**\u001b[0m\u001b[0mkwargs\u001b[0m\u001b[0;34m)\u001b[0m\u001b[0;34m\u001b[0m\u001b[0;34m\u001b[0m\u001b[0m\n\u001b[0m\u001b[1;32m    297\u001b[0m \u001b[0;34m\u001b[0m\u001b[0m\n\u001b[1;32m    298\u001b[0m     \u001b[0;31m# wrapper() must keep the same documented signature as func(): if we\u001b[0m\u001b[0;34m\u001b[0m\u001b[0;34m\u001b[0m\u001b[0;34m\u001b[0m\u001b[0m\n",
            "\u001b[0;32m/usr/local/lib/python3.8/dist-packages/matplotlib/text.py\u001b[0m in \u001b[0;36m__init__\u001b[0;34m(self, text, xy, xytext, xycoords, textcoords, arrowprops, annotation_clip, **kwargs)\u001b[0m\n\u001b[1;32m   2164\u001b[0m         \u001b[0;32mif\u001b[0m \u001b[0mxytext\u001b[0m \u001b[0;32mis\u001b[0m \u001b[0;32mNone\u001b[0m\u001b[0;34m:\u001b[0m\u001b[0;34m\u001b[0m\u001b[0;34m\u001b[0m\u001b[0m\n\u001b[1;32m   2165\u001b[0m             \u001b[0mxytext\u001b[0m \u001b[0;34m=\u001b[0m \u001b[0mself\u001b[0m\u001b[0;34m.\u001b[0m\u001b[0mxy\u001b[0m\u001b[0;34m\u001b[0m\u001b[0;34m\u001b[0m\u001b[0m\n\u001b[0;32m-> 2166\u001b[0;31m         \u001b[0mx\u001b[0m\u001b[0;34m,\u001b[0m \u001b[0my\u001b[0m \u001b[0;34m=\u001b[0m \u001b[0mxytext\u001b[0m\u001b[0;34m\u001b[0m\u001b[0;34m\u001b[0m\u001b[0m\n\u001b[0m\u001b[1;32m   2167\u001b[0m \u001b[0;34m\u001b[0m\u001b[0m\n\u001b[1;32m   2168\u001b[0m         \u001b[0mText\u001b[0m\u001b[0;34m.\u001b[0m\u001b[0m__init__\u001b[0m\u001b[0;34m(\u001b[0m\u001b[0mself\u001b[0m\u001b[0;34m,\u001b[0m \u001b[0mx\u001b[0m\u001b[0;34m,\u001b[0m \u001b[0my\u001b[0m\u001b[0;34m,\u001b[0m \u001b[0mtext\u001b[0m\u001b[0;34m,\u001b[0m \u001b[0;34m**\u001b[0m\u001b[0mkwargs\u001b[0m\u001b[0;34m)\u001b[0m\u001b[0;34m\u001b[0m\u001b[0;34m\u001b[0m\u001b[0m\n",
            "\u001b[0;31mValueError\u001b[0m: too many values to unpack (expected 2)"
          ]
        },
        {
          "output_type": "display_data",
          "data": {
            "text/plain": [
              "<Figure size 432x288 with 1 Axes>"
            ],
            "image/png": "[encoded data removed]"
          },
          "metadata": {
            "needs_background": "light"
          }
        }
      ],
      "source": [
        "import numpy as np\n",
        "import matplotlib.pyplot as plt\n",
        "\n",
        "\n",
        "#initial values\n",
        "x = 4*(10**12) # m\n",
        "y = 0          # m\n",
        "vx = 0         # m/s\n",
        "vy = 500       # m/s\n",
        "M = 1.9989e30     # kg # M = mass of sun\n",
        "G = 6.67430e-11   # N*m**2/kg**2 # G = Newtons gravitational constant\n",
        "# our 4 functions, derived from original differential vector equation\n",
        "def f(rvec, t): \n",
        "  x = rvec[0]\n",
        "  y = rvec[1]\n",
        "  vx = rvec[2]\n",
        "  vy = rvec[3]\n",
        "  r = (x**2 + y**2)**0.5\n",
        "  f_x = vx\n",
        "  f_y = vy\n",
        "  f_vx = -G*M*(x/r**3)\n",
        "  f_vy = -G*M*(y/r**3)\n",
        "  fvec = np.array([f_x, f_y, f_vx, f_vy], float)\n",
        "  return fvec\n",
        "\n",
        "# simplified RK4 Function to give initial 3 calculations in order to find error\n",
        "def RK4(rvec,h):\n",
        "  t=0\n",
        "  k1 = h * f(rvec,t) \n",
        "  k2 = h * f(rvec + (k1/2), t + (h/2))\n",
        "  k3 = h * f(rvec + (k2/2), t + (h/2))\n",
        "  k4 = h * f(rvec + k3, t+h)\n",
        "  rvec = rvec + (1/6)*(k1 + (2*k2) + (2*k3) + k4)\n",
        "\n",
        "  return(rvec)\n",
        "\n",
        "#initial step size, delta, and radius vector list\n",
        "h = 1000              #initial step size\n",
        "delta = .001         #km/year so delta has to be km/second?   3.154e+7 seconds/year #error tolerance? confused about this parameter0.\n",
        "rvec = [x,y,vx,vy]    #our 4 equations\n",
        "\n",
        "t = 0                  #t initial\n",
        "t_f = 2*10**9          #t final, time for one orbit\n",
        "\n",
        "xlist = []\n",
        "ylist = []\n",
        "tlist = []\n",
        "\"\"\"\n",
        "f0 = RK4(rvec,h) #RK4 with step size h\n",
        "f1 = RK4(f0,h)   #RK4 with step size (2h) from time t + h\n",
        "f2 = RK4(rvec, 2*h) #RK4 with step size (2h) from t = 0\n",
        "xerror = (f1[0] - f2[0]) #/30 # evaluates x component of error\n",
        "yerror = (f1[1] - f2[1]) #/30 # evaluates y component of error\n",
        "combined_error = (np.sqrt(xerror**2+yerror**2)) #combined error\n",
        "rho = 30*delta * h / combined_error\n",
        "\"\"\"\n",
        "while t < t_f:\n",
        "# inital h choice input here\n",
        "# Error calculation:\n",
        "  \n",
        "  f0 = RK4(rvec,h) #RK4 with step size h\n",
        "  f1 = RK4(f0,h)   #RK4 with step size (2h) from time t + h\n",
        "  f2 = RK4(rvec, 2*h) #RK4 with step size (2h) from t = 0\n",
        "  xerror = (f1[0] - f2[0]) #/30 # evaluates x component of error\n",
        "  yerror = (f1[1] - f2[1]) #/30 # evaluates y component of error\n",
        "  combined_error = (np.sqrt(xerror**2+yerror**2)) #combined error\n",
        "  rho = 30*delta * h / combined_error\n",
        "  \n",
        "  \"\"\"\n",
        "  try: #prevents division by 0\n",
        "    rho = 30*delta * h / combined_error\n",
        "  except RuntimeWarning:\n",
        "    rho = 30*h*delta/(1**-10)\n",
        "  \"\"\"\n",
        "  #print(rho)\n",
        "  #if rho < 1: #our accuracy is poor, reevaluate from scratch with new h  \n",
        "\n",
        "  while rho < 1:\n",
        "    \n",
        "    #h = h * rho ** (1/4)\n",
        "    \n",
        "    # Error calculation:\n",
        "    f0 = RK4(rvec,h) #RK4 with step size h\n",
        "    f1 = RK4(f0,h)   #RK4 with step size (2h) from time t + h\n",
        "    f2 = RK4(rvec, 2*h) #RK4 with step size (2h) from t = 0\n",
        "    xerror = (f1[0] - f2[0]) # evaluates x component of error\n",
        "    yerror = (f1[1] - f2[1]) # evaluates y component of error\n",
        "    combined_error = (np.sqrt(xerror**2+yerror**2)) #combined error\n",
        "    rho = 30*delta * h / combined_error\n",
        "    \"\"\"\n",
        "    try: #prevents division by 0\n",
        "      rho = 30*delta * h / combined_error\n",
        "    except RuntimeWarning:\n",
        "      rho = 30*h*delta/(1**-10)\n",
        "    \"\"\"\n",
        "    h = h * rho ** (1/4)\n",
        "\n",
        "  rvec = f1\n",
        "  tlist.append(t)   \n",
        "  xlist.append(f1[0])\n",
        "  ylist.append(f1[1])\n",
        "  h = h * rho ** (1/4)\n",
        "  t = t + h\n",
        "\n",
        "plt.plot(xlist,ylist)\n",
        "plt.plot(0,0, \"o r\")\n",
        "plt.annotate([0,0],\"sun\")"
      ]
    },
    {
      "cell_type": "code",
      "source": [
        "print(xlist)\n",
        "print(ylist)\n",
        "print(tlist)\n",
        "print(rho)\n",
        "print(h)\n",
        "print(t)\n",
        "print(f1)\n",
        "print(f2)\n",
        "\n",
        "plt.plot(xlist,ylist)"
      ],
      "metadata": {
        "colab": {
          "base_uri": "https://localhost:8080/",
          "height": 445
        },
        "id": "hj6uY2bQ45zc",
        "outputId": "a4a54f62-e8e2-4369-a56d-52cc78c5aa11"
      },
      "execution_count": 54,
      "outputs": [
        {
          "output_type": "stream",
          "name": "stdout",
          "text": [
            "[3999999998332.3423, 3999868346012.2056, 2516858097609.7373]\n",
            "[9999999.998610286, 2809677583.0155954, 237488583117.56207]\n",
            "[0, 2799708.4092593743, 1033689396.4824715]\n",
            "31.37923734202745\n",
            "1548014647.9141383\n",
            "2581704044.39661\n",
            "[ 2.51685810e+12  2.37488583e+11 -6.27831741e+03  2.02245761e+02]\n",
            "[ 2.51931997e+12  2.38447419e+11 -6.21636213e+03  2.07946937e+02]\n"
          ]
        },
        {
          "output_type": "execute_result",
          "data": {
            "text/plain": [
              "[<matplotlib.lines.Line2D at 0x7f778236f5b0>]"
            ]
          },
          "metadata": {},
          "execution_count": 54
        },
        {
          "output_type": "display_data",
          "data": {
            "text/plain": [
              "<Figure size 432x288 with 1 Axes>"
            ],
            "image/png": "[encoded data removed]"
          },
          "metadata": {
            "needs_background": "light"
          }
        }
      ]
    }
  ]
}