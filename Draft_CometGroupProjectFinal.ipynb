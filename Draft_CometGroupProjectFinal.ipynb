{
  "nbformat": 4,
  "nbformat_minor": 0,
  "metadata": {
    "colab": {
      "provenance": [],
      "include_colab_link": true
    },
    "kernelspec": {
      "name": "python3",
      "display_name": "Python 3"
    },
    "language_info": {
      "name": "python"
    }
  },
  "cells": [
    {
      "cell_type": "markdown",
      "metadata": {
        "id": "view-in-github",
        "colab_type": "text"
      },
      "source": [
        "<a href=\"https://colab.research.google.com/github/tpyte001/comput_phy/blob/main/Draft_CometGroupProjectFinal.ipynb\" target=\"_parent\"><img src=\"https://colab.research.google.com/assets/colab-badge.svg\" alt=\"Open In Colab\"/></a>"
      ]
    },
    {
      "cell_type": "markdown",
      "source": [
        "Part one of project, cometary orbit with fixed step size"
      ],
      "metadata": {
        "id": "8NbfZFS7Iuz9"
      }
    },
    {
      "cell_type": "code",
      "execution_count": null,
      "metadata": {
        "id": "2o47M23MfRTN"
      },
      "outputs": [],
      "source": [
        "# UNITS\n",
        "# We will use SI units with large intervals of time for steps\n",
        "# x(0),y(0),Vx(0),Vy(0) meters / second ** 2\n",
        "# Mass of the Sun: 1.989 x 10 ** 30 Kilograms\n",
        "# Gravitational Constant: 6.67430 * 10 ** (-11) Newtons * meter ** 2 / kilogram**(-2)\n",
        "\n",
        "# initial values\n",
        "x = 4*(10**9)  # km\n",
        "y = 0          # km\n",
        "vx = 0         # m/s\n",
        "vy = 500       # m/s\n",
        "\n",
        "M = 1.9989e30     # kg # M = mass of sun\n",
        "G = 6.67430e-11   # N*m**2/kg**2 # G = Newtons gravitational constant\n",
        "\n",
        "def f(rvec, t):\n",
        "  \"\"\"\n",
        "  description:\n",
        "  f(rvec,t) function returns the force vector, this function is to be used within function rk4fixed()\n",
        "  computes force vector (fvec) of cometary orbit using x and y components \n",
        "  \"\"\"\n",
        "  \n",
        "  x = rvec[0]\n",
        "  y = rvec[1]\n",
        "  vx = rvec[2]\n",
        "  vy = rvec[3]\n",
        "  r = (x**2 + y**2)**0.5\n",
        "  f_x = vx\n",
        "  f_y = vy\n",
        "  f_vx = -G*M*(x/r**3)\n",
        "  f_vy = -G*M*(y/r**3)\n",
        "  fvec = np.array([f_x, f_y, f_vx, f_vy], float)\n",
        "  return fvec\n",
        " \n",
        "\n",
        "def rk4fixed(a,b,N):\n",
        "  \"\"\"\n",
        "  description:\n",
        "  rk4fixed(a,b,N) uses the runge-kutta method to compute a cometary orbit around the sun with static step size\n",
        "  \n",
        "  calls f(rvec,t), which computes the force vector of orbit defined outside of rk4fixed(a,b,N)\n",
        "  rk4fixed(a,b,N) uses the runge kutta method parameters input into f(rvec, t), updates rvec, and appends\n",
        "  each iteration of rvec [x,y,vx,vy] into a list for plotting\n",
        "  \"\"\"\n",
        "  rvec = [x,y,vx,vy]\n",
        "  \n",
        "  h = (b-a)/N\n",
        "  tlist = np.arange(a,b,h)\n",
        "  xlist = []\n",
        "  ylist = []\n",
        "  vxlist = []\n",
        "  vylist = []\n",
        "  for t in tlist:\n",
        "    xlist.append(rvec[0])\n",
        "    ylist.append(rvec[1])\n",
        "    vxlist.append(rvec[2])\n",
        "    vylist.append(rvec[3])\n",
        "  \n",
        "    k1 = h * f(rvec,t) \n",
        "    k2 = h * f(rvec + (k1/2), t + (h/2))\n",
        "    k3 = h * f(rvec + (k2/2), t + (h/2))\n",
        "    k4 = h * f(rvec + k3, t+h)\n",
        "    rvec = rvec + (1/6)*(k1 + (2*k2) + (2*k3) + k4)\n",
        "\n",
        "  return(xlist, ylist, vxlist, vylist)\n",
        "\n",
        "\n",
        "\n"
      ]
    },
    {
      "cell_type": "markdown",
      "source": [
        "Part 2 of project, cometary orbit with adaptive scheme"
      ],
      "metadata": {
        "id": "oEijC7n4Iy4_"
      }
    },
    {
      "cell_type": "markdown",
      "source": [
        "#Next step:\n",
        "#implement adaptive method from t=a to t=b with a target accuracy given by delta km/year\n",
        "\n",
        "The main idea is that after given an initial time step h, and specifying a maximum allowed error,\n",
        "the RK algorithm computes the ideal step size to use.\n",
        "\n",
        "For adaptive integration, our h is going to vary, so instead of specifying a constant time interval,\n",
        "a single initial time interval is chosen. That time interval is then used to find the error. We specify\n",
        "and error tolernce, i.e. a maximum allowed error, and the time interval h is increased or decreased \n",
        "depending on wether or not our actual error is greater than our error tolernace.\n",
        "\n",
        "We specify this error tolerance to the algorithm,\n",
        "which then computes the ideal step size to use.\n",
        "\n",
        "Process:\n",
        "- Choose a very small initial value of h\n",
        "- do two steps of RK method, each of size h, get estimate of x1(t + 2h)\n",
        "- go back to t initial, do step of 2h, get estimate of x2(t + 2h)\n",
        "- comparing these two values gives the error, and allows the algorithm to calculate\n",
        "  the ideal step size from that error. we find:\n",
        "  Ideal step size h' = h*(rho)^1/4 where (rho) = 30 h * delta / |x1(t+2h) - x2(t+2h)|\n",
        "  where delta is our error tolerance\n",
        "- if rho > 1. we keep results and move onto time t+2h\n",
        "- if rho < 1. we need to repeat the current step to recalculate h'\n",
        "\"\"\"\n"
      ],
      "metadata": {
        "id": "-3V7NvXYI3tu"
      }
    },
    {
      "cell_type": "code",
      "source": [
        "import numpy as np\n",
        "import matplotlib.pyplot as plt\n",
        "\n",
        "\n",
        "#initial values\n",
        "\n",
        "x = 4*(10**9)  # km\n",
        "y = 0          # km\n",
        "vx = 0         # m/s\n",
        "vy = 500       # m/s\n",
        "\n",
        "M = 1.9989e30     # kg # M = mass of sun\n",
        "G = 6.67430e-11   # N*m**2/kg**2 # G = Newtons gravitational constant\n",
        "\n",
        "# our 4 functions, derived from original differential vector equation\n",
        "def f(rvec, t): \n",
        "  x = rvec[0]\n",
        "  y = rvec[1]\n",
        "  vx = rvec[2]\n",
        "  vy = rvec[3]\n",
        "  r = (x**2 + y**2)**0.5\n",
        "  f_x = vx\n",
        "  f_y = vy\n",
        "  f_vx = -G*M*(x/r**3)\n",
        "  f_vy = -G*M*(y/r**3)\n",
        "  fvec = np.array([f_x, f_y, f_vx, f_vy], float)\n",
        "  return fvec\n",
        "\n",
        "# simplified RK4 Function to give initial 3 calculations in order to find error\n",
        "def RK4(rvec,h):\n",
        "  t = 0\n",
        "  k1 = h * f(rvec,t) \n",
        "  k2 = h * f(rvec + (k1/2), t + (h/2))\n",
        "  k3 = h * f(rvec + (k2/2), t + (h/2))\n",
        "  k4 = h * f(rvec + k3, t+h)\n",
        "  rvec = rvec + (1/6)*(k1 + (2*k2) + (2*k3) + k4)\n",
        "\n",
        "  return(rvec)\n",
        "\n",
        "#initial step size, delta, and radius vector list\n",
        "h = 100          #initial step size\n",
        "delta = 1  #km/year so delta has to be km/second?   3.154e+7 seconds/year #error tolerance? confused about this parameter\n",
        "rvec = [x,y,vx,vy]    #our 4 equations\n",
        "\n",
        "t = 0                 #t initial\n",
        "t_f = 2*10*9          #t final, time for one orbit\n",
        "\n",
        "xlist = []\n",
        "ylist = []\n",
        "\n",
        "for t in range(t,t_f):\n",
        "# Error calculation:\n",
        "  f0 = RK4(rvec,h) #RK4 with step size h\n",
        "  f1 = RK4(f0,h)   #RK4 with step size (2h) from time t + h\n",
        "  f2 = RK4(rvec, 2*h) #RK4 with step size (2h) from t = 0\n",
        "  xerror = (f1[0] - f2[0])/30 # evaluates x component of error\n",
        "  yerror = (f1[1] - f2[1])/30 # evaluates y component of error\n",
        "  combined_error = (np.sqrt(xerror**2+yerror**2)) #combined error\n",
        "  try: #prevents division by 0\n",
        "    rho = 30*delta * h / combined_error\n",
        "  except RuntimeWarning:\n",
        "    rho = 30*h*delta/(1**-10)\n",
        "  #print(rho)\n",
        "\n",
        "  while delta < 1:\n",
        "     \n",
        "    if rho > 1: #our accuracy is to good, we still need to reduce h to save computation time\n",
        "      h = h * (rho ** 1/4)\n",
        "      x = rvec[0]\n",
        "      y = rvec[1]\n",
        "      vx = rvec[2]\n",
        "      vy = rvec[3]\n",
        "      xlist.append(x)\n",
        "      xlist.append(y)\n",
        "      print(h)\n",
        "    if rho < 1:\n",
        "      #if rho < 1: #our accuracy is poor, reevaluate from scratch with new h\n",
        "      h = h * (rho ** (1/4))\n",
        "      print(h)\n",
        "      \n",
        "plt.plot(xlist,ylist)"
      ],
      "metadata": {
        "id": "cVfsOX94kK4U",
        "colab": {
          "base_uri": "https://localhost:8080/",
          "height": 282
        },
        "outputId": "5121bbad-a8da-47d8-a8e5-e4b7beddff09"
      },
      "execution_count": 23,
      "outputs": [
        {
          "output_type": "execute_result",
          "data": {
            "text/plain": [
              "[<matplotlib.lines.Line2D at 0x7f16abe6ceb0>]"
            ]
          },
          "metadata": {},
          "execution_count": 23
        },
        {
          "output_type": "display_data",
          "data": {
            "text/plain": [
              "<Figure size 432x288 with 1 Axes>"
            ],
            "image/png": "[encoded data removed]"
          },
          "metadata": {
            "needs_background": "light"
          }
        }
      ]
    },
    {
      "cell_type": "code",
      "source": [],
      "metadata": {
        "id": "uF2hTBGYhSHb"
      },
      "execution_count": null,
      "outputs": []
    },
    {
      "cell_type": "markdown",
      "source": [
        "# Section 8.4 Mark Newman Text\n",
        "## latex placeholders for now, have to make better\n",
        "\n",
        "The basic idea behind adaptive schemes is to vary the step size h such that the error introduced per unit interval t is roughly constant\n",
        "\n",
        "i.e. say you want an error time of 0.001 per unit time, then $t \\ ϵ \\ [0, 10]$ will yeild an error of $\\frac{0.001}{10} \\ \\le \\ 0.01$\n",
        "\n",
        "We need to estimate the error on our steps, then compare that error to our required accuracy.\n",
        "\n",
        "For the RK4 method this process is as follows:\n",
        "\n",
        "choose an initial value of h, typically very small. In our case very small is relative to astronomical units, so h will probably be aroud 100 or 1000.\n",
        "\n",
        "Using the vanilla RK4 $= f$ method, we evaluate two instances of the solution of step size h one after another: $f(r,h), f(f(r,h),h) \\implies f_1(r, t+2h)$\n",
        "and one more instance of RK4 from $t=t_o$\n",
        "which yields $f_2(r,t+2h)$ where $f1$ and $f2$ will be slightly different.\n",
        "\n",
        "getting these two function evaluations will allow us to compare them and gauge the accuracy of our calculations. since it's a 4th order method its accurate to the 4th order, with an error on the fifth order. Meaning that the size of the error per step is $ch^5$ So the error for two step sizes is double that. which implies that $f1 = f1 + 2ch^5$\n",
        "\n",
        "when we start at $t_o$ with a single step size of $2h$ our error becomes $c(2h)^5 \\ = \\ 32ch^5$ which implies that $f_2 = f_2 + 32ch^5$\n",
        "\n",
        "equating these two expressions gives $f_1 = f_2 + 30ch^5$ which implies the error per step $ϵ$ is $\\frac{1}{30}(f_1-f_2)$\n",
        "\n",
        "The quesiton to ask here is what step size would our steps have to be to make the size of the error exactly equal to the target error? we can denote this step size as $h'$, and our target error as $ϵ'$. We also have our target accuracy per unit time for our calculation as 𝛅. meaning that our target accuracy per ideal step size would be $h'𝛅$.\n",
        "\n",
        "then, skipping the math for now, we rearrange for $h'$ then find that for a single step size:\n",
        "$h' = h (\\frac{30h𝛅}{|f_1-f_2|})^{1\\over4} = hρ^{1\\over4}$\n",
        "\n",
        "This ratio rho is our gauge for knowing wether or not the accuracy of our RK4 steps are acceptable. \n",
        "if rho > 1, the accuracy is better than target accuracy, so the calculation is fine. for simplicities sake we can move onto the next step here, but ideally we want to recalculate h to not be wasteful. *keep results and move onto time t+2h to continue solution - (how do we represent this programatically* \n",
        "\n",
        "if rho < 1 then we need to repeat our current step with a smaller step size calculated by the algorithm. \n",
        "\n",
        "so after each step depending on rho, we either increase h and move on or decrease h and repeat. \n",
        "\n",
        "for the actual solution we use $f_1$\n",
        "\n",
        "to prevent h' from diverging, we need to place an upper limit on how much h can increase from one step to the next. i.e. not more than 10% on any given pair of steps."
      ],
      "metadata": {
        "id": "_3RlU44DO0Yp"
      }
    }
  ]
}