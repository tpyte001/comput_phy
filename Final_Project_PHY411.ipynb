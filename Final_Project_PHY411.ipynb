{
  "nbformat": 4,
  "nbformat_minor": 0,
  "metadata": {
    "colab": {
      "provenance": [],
      "authorship_tag": "ABX9TyOtuJVZiay4l9RPyTm4SQNp",
      "include_colab_link": true
    },
    "kernelspec": {
      "name": "python3",
      "display_name": "Python 3"
    },
    "language_info": {
      "name": "python"
    }
  },
  "cells": [
    {
      "cell_type": "markdown",
      "metadata": {
        "id": "view-in-github",
        "colab_type": "text"
      },
      "source": [
        "<a href=\"https://colab.research.google.com/github/tpyte001/comput_phy/blob/main/Final_Project_PHY411.ipynb\" target=\"_parent\"><img src=\"https://colab.research.google.com/assets/colab-badge.svg\" alt=\"Open In Colab\"/></a>"
      ]
    },
    {
      "cell_type": "markdown",
      "source": [
        "\n",
        "Using Newton's second law and law of gravitation, we obtain:\n",
        "\n",
        "$$ m \\frac{d^2 \\vec{r}}{dt^2} = - \\left( \\frac{G M m}{r^2} \\right) \\frac{\\vec{r}}{r} $$\n",
        "\n",
        "After canceling m, the x component and the y components can be represented as follows: $ \\frac{d^2x}{dt^2} = - \\frac{Gm}{r^3}x $ and $ \\frac{d^2y}{dt^2} = - \\frac{Gm}{r^3}y $. \n",
        "\n",
        "Since $ \\frac{d^2x}{dt^2} $ and $\\frac{d^2y}{dt^2}$ can be expressed as $ \\frac{d}{dt}(\\frac{dx}{dt}) $ and $ \\frac{d}{dt}(\\frac{dy}{dt})$ \n",
        "\n",
        "we can let $ \\frac{dx}{dt} = V_x$ and $\\frac{dy}{dt} = V_y $.\n",
        "\n",
        "Expressing $ \\frac{dx}{dt}$ and $\\frac{dy}{dt}$ in this way allows us to represent our 2nd order component equations as 4 first order component equations:\n",
        "\n",
        "$ \\frac{dx}{dt} = V_x $,\n",
        "$ \\frac{dy}{dt} = V_y $,\n",
        "$ \\frac{dV_x}{dt} = - \\frac{Gm}{r^3}x $,\n",
        "$ \\frac{dV_y}{dt} = - \\frac{Gm}{r^3}y $.\n",
        "\n",
        "Which in turn allows us to evaluate them numerically with the Runge-Kutta 4th Order method. \n",
        "\n",
        "First we will evaluate these equations with a static step size, which will allow us to approximate an orbit. However, it won't be the most accurate. As the comet approaches the sun, the accelration due to gravity increases, and everything moves faster. This implies that using a fixed step size can miss out on the details, as alot happens in a short amount of time. Conversely, when the comet is further away from the sun and moving slowly, very little happens in a long amount of time, so using a fixed step size may provide to much detail. The curvature of the elliptical orbit while the comet is far from the sun is closer to zero, meaning the comet is traveling more or less along a straight line. When this is the case we can use larger step sizes in order to save on computation time. Because of the lack of curvature, the approximation will still be mostly accurate. These problems will be addressed later on with an adaptive Runge Kutta 4th Order (RK4) Scheme.\n",
        "\n",
        "## RK4 Static Scheme"
      ],
      "metadata": {
        "id": "ggK_auWV85ls"
      }
    },
    {
      "cell_type": "code",
      "source": [
        "import numpy as np\n",
        "import matplotlib.pyplot as plt\n",
        "\n",
        "x = 4*(10**12) # m\n",
        "y = 0          # m\n",
        "vx = 0         # m/s\n",
        "vy = 500       # m/s\n",
        "\n",
        "# M = mass of sun\n",
        "M = 1.9989e30     # kg \n",
        "\n",
        "# G = Newtons gravitational constant\n",
        "G = 6.67430e-11   # N*m**2/kg**2\n",
        "\n",
        "def f(rvec, t):\n",
        "  x = rvec[0]\n",
        "  y = rvec[1]\n",
        "  vx = rvec[2]\n",
        "  vy = rvec[3]\n",
        "  r = (x**2 + y**2)**0.5\n",
        "  f_x = vx\n",
        "  f_y = vy\n",
        "  f_vx = -G*M*(x/r**3)\n",
        "  f_vy = -G*M*(y/r**3)\n",
        "  fvec = np.array([f_x, f_y, f_vx, f_vy], float)\n",
        "  return fvec\n",
        " \n",
        "\n",
        "a = 0\n",
        "b = 2 * 10 ** 9\n",
        "N = 100000\n",
        "\n",
        "rvec = [x,y,vx,vy]\n",
        "  \n",
        "h = (b-a)/N\n",
        "tlist = np.arange(a,b,h)\n",
        "xlist = []\n",
        "ylist = []\n",
        "vxlist = []\n",
        "vylist = []\n",
        "for t in tlist:\n",
        "  xlist.append(rvec[0])\n",
        "  ylist.append(rvec[1])\n",
        "  vxlist.append(rvec[2])\n",
        "  vylist.append(rvec[3])\n",
        "  \n",
        "  k1 = h * f(rvec,t) \n",
        "  k2 = h * f(rvec +.5*k1, t +.5*h)\n",
        "  k3 = h * f(rvec + .5*k2, t + .5*h)\n",
        "  k4 = h * f(rvec + k3, t+h)\n",
        "  rvec = rvec + (1/6)*(k1 + (2*k2) + (2*k3) + k4)\n",
        "\n",
        "plt.plot(xlist,ylist)\n",
        "plt.plot(0,0, \"o r\")\n",
        "plt.annotate(\"sun\", xy=(0,0), bbox=dict(boxstyle=\"circle\",fc=\"r\"))\n",
        "plt.title(\"Static Scheme of Comet Orbiting Sun\")\n",
        "plt.xlabel('x')\n",
        "plt.ylabel('y')\n",
        "plt.show()"
      ],
      "metadata": {
        "colab": {
          "base_uri": "https://localhost:8080/",
          "height": 295
        },
        "id": "GYFkZkPCAwIl",
        "outputId": "9eaa9e85-950b-4a96-897b-35db409290c5"
      },
      "execution_count": 6,
      "outputs": [
        {
          "output_type": "display_data",
          "data": {
            "text/plain": [
              "<Figure size 432x288 with 1 Axes>"
            ],
            "image/png": "[encoded data removed]"
          },
          "metadata": {
            "needs_background": "light"
          }
        }
      ]
    },
    {
      "cell_type": "markdown",
      "source": [
        "## RK4 Dynamic Scheme"
      ],
      "metadata": {
        "id": "uP3-UPvvBB4r"
      }
    },
    {
      "cell_type": "code",
      "source": [
        "import numpy as np\n",
        "import matplotlib.pyplot as plt\n",
        "\n",
        "### Define initial values\n",
        "x = 4*(10**12)        # m\n",
        "y = 0                 # m\n",
        "vx = 0                # m/s\n",
        "vy = 500              # m/s\n",
        "M = 1.9989e30         # kg # M = mass of sun\n",
        "G = 6.67430e-11       # N*m**2/kg**2 # G = Newtons gravitational constant\n",
        "\n",
        "### Function containing our 4 1st order diff equations, derived from original differential vector equation\n",
        "def f(rvec, t): \n",
        "  x = rvec[0]\n",
        "  y = rvec[1]\n",
        "  vx = rvec[2]\n",
        "  vy = rvec[3]\n",
        "  r = (x**2 + y**2)**0.5\n",
        "  f_x = vx\n",
        "  f_y = vy\n",
        "  f_vx = -G*M*(x/r**3)\n",
        "  f_vy = -G*M*(y/r**3)\n",
        "  fvec = np.array([f_x, f_y, f_vx, f_vy], float)\n",
        "  return fvec\n",
        "\n",
        "\n",
        "### RK4 Evaluation\n",
        "def RK4(rvec,h):\n",
        "  t=0\n",
        "  k1 = h * f(rvec,t) \n",
        "  k2 = h * f(rvec + (k1/2), t + (h/2))\n",
        "  k3 = h * f(rvec + (k2/2), t + (h/2))\n",
        "  k4 = h * f(rvec + k3, t+h)\n",
        "  rvec = rvec + (1/6)*(k1 + (2*k2) + (2*k3) + k4)\n",
        "  return(rvec)\n",
        "\n",
        "### initial step size, delta, and radius vector list\n",
        "h = 1000                    #initial step size\n",
        "delta = .001                #initial error tolerance\n",
        "rvec = [x,y,vx,vy]          \n",
        "\n",
        "t = 0                       #initial time\n",
        "t_f = 2*(2*10**9)           #final time, amount of time for one orbit\n",
        "\n",
        "xlist = []\n",
        "ylist = []\n",
        "tlist = []\n",
        "\n",
        "\"\"\"\n",
        "f0 = RK4(rvec,h) #RK4 with step size h\n",
        "f1 = RK4(f0,h)   #RK4 with step size (2h) from time t + h\n",
        "f2 = RK4(rvec, 2*h) #RK4 with step size (2h) from t = 0\n",
        "xerror = (f1[0] - f2[0]) #/30 # evaluates x component of error\n",
        "yerror = (f1[1] - f2[1]) #/30 # evaluates y component of error\n",
        "combined_error = (np.sqrt(xerror**2+yerror**2)) #combined error\n",
        "rho = 30*delta * h / combined_error\n",
        "\"\"\"\n",
        "\n",
        "while t < t_f:\n",
        "# inital h choice input here\n",
        "# Error calculation:\n",
        "  \n",
        "  f0 = RK4(rvec,h) #RK4 with step size h\n",
        "  f1 = RK4(f0,h)   #RK4 with step size (2h) from time t + h\n",
        "  f2 = RK4(rvec, 2*h) #RK4 with step size (2h) from t = 0\n",
        "  xerror = (f1[0] - f2[0]) #/30 # evaluates x component of error\n",
        "  yerror = (f1[1] - f2[1]) #/30 # evaluates y component of error\n",
        "  combined_error = (np.sqrt(xerror**2+yerror**2)) #combined error\n",
        "  rho = 30*delta * h / combined_error\n",
        "  \n",
        "  \"\"\"\n",
        "  try: #prevents division by 0\n",
        "    rho = 30*delta * h / combined_error\n",
        "  except RuntimeWarning:\n",
        "    rho = 30*h*delta/(1**-10)\n",
        "  \"\"\"\n",
        "  #print(rho)\n",
        "  #if rho < 1: #our accuracy is poor, reevaluate from scratch with new h  \n",
        "\n",
        "  while rho < 1:\n",
        "    \n",
        "    #h = h * rho ** (1/4)\n",
        "    \n",
        "    # Error calculation:\n",
        "    f0 = RK4(rvec,h) #RK4 with step size h\n",
        "    f1 = RK4(f0,h)   #RK4 with step size (2h) from time t + h\n",
        "    f2 = RK4(rvec, 2*h) #RK4 with step size (2h) from t = 0\n",
        "    xerror = (f1[0] - f2[0]) # evaluates x component of error\n",
        "    yerror = (f1[1] - f2[1]) # evaluates y component of error\n",
        "    combined_error = (np.sqrt(xerror**2+yerror**2)) #combined error\n",
        "    rho = 30*delta * h / combined_error\n",
        "    h = h * rho ** (1/4)\n",
        "\n",
        "  rvec = f1\n",
        "  tlist.append(t)   \n",
        "  xlist.append(f1[0])\n",
        "  ylist.append(f1[1])\n",
        "  h = h * rho ** (1/4)\n",
        "  t = t + h\n",
        "\n",
        "plt.plot(xlist,ylist)\n",
        "plt.plot(0,0, \"o r\")\n",
        "plt.annotate(\"sun\", xy=(0,0), bbox=dict(boxstyle=\"circle\",fc=\"r\"))\n",
        "plt.title(\"Adaptive Scheme of Comet Orbiting Sun\")\n",
        "plt.xlabel('x')\n",
        "plt.ylabel('y')\n",
        "plt.show()\n"
      ],
      "metadata": {
        "colab": {
          "base_uri": "https://localhost:8080/",
          "height": 295
        },
        "id": "H4mxbV2OBFRS",
        "outputId": "d36c77ea-ea23-472c-a6cc-feb54151027b"
      },
      "execution_count": 7,
      "outputs": [
        {
          "output_type": "display_data",
          "data": {
            "text/plain": [
              "<Figure size 432x288 with 1 Axes>"
            ],
            "image/png": "[encoded data removed]"
          },
          "metadata": {
            "needs_background": "light"
          }
        }
      ]
    }
  ]
}