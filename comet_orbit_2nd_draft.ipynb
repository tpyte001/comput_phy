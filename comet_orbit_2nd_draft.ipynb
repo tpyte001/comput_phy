{
  "nbformat": 4,
  "nbformat_minor": 0,
  "metadata": {
    "colab": {
      "provenance": [],
      "authorship_tag": "ABX9TyPVnX1UZld5sXgq0jgiJaxs",
      "include_colab_link": true
    },
    "kernelspec": {
      "name": "python3",
      "display_name": "Python 3"
    },
    "language_info": {
      "name": "python"
    }
  },
  "cells": [
    {
      "cell_type": "markdown",
      "metadata": {
        "id": "view-in-github",
        "colab_type": "text"
      },
      "source": [
        "<a href=\"https://colab.research.google.com/github/tpyte001/comput_phy/blob/main/comet_orbit_2nd_draft.ipynb\" target=\"_parent\"><img src=\"https://colab.research.google.com/assets/colab-badge.svg\" alt=\"Open In Colab\"/></a>"
      ]
    },
    {
      "cell_type": "code",
      "execution_count": 63,
      "metadata": {
        "id": "b2tXQMrKms8S"
      },
      "outputs": [],
      "source": [
        "import numpy as np\n",
        "#initialized variables\n",
        "\n",
        "x = 4*(10**9)  # km\n",
        "y = 0          # km\n",
        "vx = 0         # m/s\n",
        "vy = 500       # m/s\n",
        "\n",
        "M = 1.9989e30     # kg # M = mass of sun\n",
        "G = 6.67430e-11   # N*m**2/kg**2 # G = Newtons gravitational constant\n",
        "\n",
        "def f(rvec, t):\n",
        "  #initial variables stored in array\n",
        "  x = rvec[0]\n",
        "  y = rvec[1]\n",
        "  vx = rvec[2]\n",
        "  vy = rvec[3]\n",
        "  r = (x**2 + y**2)**0.5\n",
        "  #functions to evaluate with RK4\n",
        "  f_x = vx\n",
        "  f_y = vy\n",
        "  f_vx = -G*M*(x/r**3)\n",
        "  f_vy = -G*M*(y/r**3)\n",
        "  fvec = np.array([f_x, f_y, f_vx, f_vy], float)\n",
        "  return fvec\n",
        " \n",
        "def RK4(rvec,h):\n",
        "  t = 0\n",
        "  k1 = h * f(rvec,t) \n",
        "  k2 = h * f(rvec + (k1/2), t + (h/2))\n",
        "  k3 = h * f(rvec + (k2/2), t + (h/2))\n",
        "  k4 = h * f(rvec + k3, t+h)\n",
        "  rvec = rvec + (1/6)*(k1 + (2*k2) + (2*k3) + k4)\n",
        "\n",
        "  return rvec\n",
        "\n",
        "\n",
        "rvec = [x,y,vx,vy]\n",
        "t = 0\n",
        "t_f = 100 #2 * 10**9\n",
        "tlist = []\n",
        "\n",
        "\n",
        "#initial h size used to determine error below\n",
        "h = 100\n",
        "#limits on change to prevent error\n",
        "#hmin\n",
        "#hmax\n",
        "delta = 1 # km/year\n",
        "\n",
        "for i in range(t,t_f):\n",
        "\n",
        "  #part one of adaptive RK4 method, \n",
        "  f0 = RK4(rvec,h)\n",
        "  f1 = RK4(f0,h)       #returns rvecA\n",
        "  f2 = RK4(rvec, 2*h)  #returns rvecB\n",
        "\n",
        "  #step3 calculate error\n",
        "  xerror = (f1[0] - f2[0])\n",
        "  yerror = (f1[1] - f2[1])\n",
        "  #rho = 30 * delta * h / (np.sqrt(xerror**2+yerror**2))\n",
        "  \n",
        "  #combine error into one step\n",
        "  try:\n",
        "    rho = 30 * delta * h / (np.sqrt(xerror**2+yerror**2))\n",
        "  except RuntimeWarning:\n",
        "    rho = 30 * delta * h / 1*10**-20\n",
        "  #while error is less than error tolerance\n",
        "    while abs(xerror) < delta:\n",
        "    #better accuracy\n",
        "        if rho > 1:\n",
        "          h = h * (rho ** 1/4)\n",
        "          print(rvec)\n",
        "          break\n",
        "          #tlist.append(h)\n",
        "      #accuracy to low, repeat untill rho > 1\n",
        "        if rho < 1:\n",
        "          h = h * (rho ** 1/4)\n",
        "          tlist.append(h)\n",
        "          print(tlist)"
      ]
    }
  ]
}