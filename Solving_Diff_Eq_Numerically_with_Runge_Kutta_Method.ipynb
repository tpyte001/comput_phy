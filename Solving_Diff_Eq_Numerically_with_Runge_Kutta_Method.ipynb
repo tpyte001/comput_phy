{
  "nbformat": 4,
  "nbformat_minor": 0,
  "metadata": {
    "colab": {
      "provenance": [],
      "authorship_tag": "ABX9TyMEb2rfUyn6aIeikvZGCuRd",
      "include_colab_link": true
    },
    "kernelspec": {
      "name": "python3",
      "display_name": "Python 3"
    },
    "language_info": {
      "name": "python"
    }
  },
  "cells": [
    {
      "cell_type": "markdown",
      "metadata": {
        "id": "view-in-github",
        "colab_type": "text"
      },
      "source": [
        "<a href=\"https://colab.research.google.com/github/tpyte001/comput_phy/blob/main/Solving_Diff_Eq_Numerically_with_Runge_Kutta_Method.ipynb\" target=\"_parent\"><img src=\"https://colab.research.google.com/assets/colab-badge.svg\" alt=\"Open In Colab\"/></a>"
      ]
    },
    {
      "cell_type": "markdown",
      "source": [
        "<h1> Solving Diff Eq Numerically with Runge Kutta Method"
      ],
      "metadata": {
        "id": "qGz01Rr3OSJh"
      }
    },
    {
      "cell_type": "code",
      "source": [
        "import numpy as np\n",
        "\n",
        "def dydt(y,t):\n",
        "  #return (3*(t)*np.e ** (-y))\n",
        "  return -y\n",
        "  \n",
        "### RANGE KUTTA METHOD ###\n",
        "\n",
        "a = 0\n",
        "b = 10\n",
        "N = 100\n",
        "h = (b-a)/N\n",
        "\n",
        "tlist = np.arange(a,b,h)\n",
        "ylist = []\n",
        "y = 1000\n",
        "\n",
        "for t in tlist:\n",
        "  ylist.append(y)\n",
        "  k1 = h * dydt(y,t)\n",
        "  k2 = h * dydt((y + k1 / 2.0),(t+ h / 2.0))\n",
        "  y = y + k2\n",
        "\n",
        "graph2 = plt.plot(tlist,ylist)\n",
        "plt.plot()\n",
        "\n",
        "### EULERS METHOD ###\n",
        "\n",
        "t = 0   # initial condition\n",
        "y = 2   # initial condition\n",
        "h = 0.2 # step size\n",
        "N = 5   # eulers method opper limit\n",
        "#epsilon = (0.5 * (h**2) for i in range(0,N-1) # accumulated error\n",
        "\n",
        "\n",
        "tlist = []\n",
        "ylist = []\n",
        "while t < 1:\n",
        "  tlist.append(t)\n",
        "  y_next = y + h*(3*(t)*np.e ** (-y))\n",
        "  ylist.append(y)\n",
        "  y = y_next\n",
        "  t = t + 0.2\n",
        "print(tlist)\n",
        "plt.plot(tlist,1000*np.exp(-np.array(tlist)))\n"
      ],
      "metadata": {
        "colab": {
          "base_uri": "https://localhost:8080/",
          "height": 300
        },
        "id": "LsXDyWGmW7k1",
        "outputId": "0983cae2-5b3a-4f31-c84c-7949fbf57ddc"
      },
      "execution_count": null,
      "outputs": [
        {
          "output_type": "stream",
          "name": "stdout",
          "text": [
            "[0, 0.2, 0.4, 0.6000000000000001, 0.8]\n"
          ]
        },
        {
          "output_type": "execute_result",
          "data": {
            "text/plain": [
              "[<matplotlib.lines.Line2D at 0x7fa6f4bf4b90>]"
            ]
          },
          "metadata": {},
          "execution_count": 5
        },
        {
          "output_type": "display_data",
          "data": {
            "text/plain": [
              "<Figure size 432x288 with 1 Axes>"
            ],
            "image/png": "[encoded data removed]"
          },
          "metadata": {
            "needs_background": "light"
          }
        }
      ]
    }
  ]
}