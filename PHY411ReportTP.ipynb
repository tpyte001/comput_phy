{
  "nbformat": 4,
  "nbformat_minor": 0,
  "metadata": {
    "colab": {
      "provenance": [],
      "collapsed_sections": [],
      "authorship_tag": "ABX9TyMlxOD9gAAN1fLogdRF56Ro",
      "include_colab_link": true
    },
    "kernelspec": {
      "name": "python3",
      "display_name": "Python 3"
    },
    "language_info": {
      "name": "python"
    }
  },
  "cells": [
    {
      "cell_type": "markdown",
      "metadata": {
        "id": "view-in-github",
        "colab_type": "text"
      },
      "source": [
        "<a href=\"https://colab.research.google.com/github/tpyte001/comput_phy/blob/main/PHY411ReportTP.ipynb\" target=\"_parent\"><img src=\"https://colab.research.google.com/assets/colab-badge.svg\" alt=\"Open In Colab\"/></a>"
      ]
    },
    {
      "cell_type": "markdown",
      "source": [
        "<center>\n",
        "<h1>Adaptive Methods for Trapezoidal Rule<h1>\n",
        "<h2>By Taylor Pytel<h2>\n",
        "\n",
        "</center>"
      ],
      "metadata": {
        "id": "T53B7XkFL1sp"
      }
    },
    {
      "cell_type": "markdown",
      "source": [
        "\n",
        "\n",
        "---\n",
        "\n"
      ],
      "metadata": {
        "id": "E8zFfARvNUU0"
      }
    },
    {
      "cell_type": "markdown",
      "source": [
        "The trapezoid rule is a quick and easy way to approximate the integrals of hard to calculate functions, but if we have a function whose domain includes areas of rapid change, then the trapezoid rule will start to suffer for accuracy. When this is the case, it's better to use the method described below.\n",
        "\n",
        "First, lets define a function whose integral we can calculate by hand to serve as an example:"
      ],
      "metadata": {
        "id": "Wbf0As27ZzFs"
      }
    },
    {
      "cell_type": "markdown",
      "source": [
        "Let: \n",
        "\n",
        "\n",
        "> $f(x)=x \\sin^2(x)$\n",
        "\n",
        "\n",
        "\n",
        "\n",
        "\n"
      ],
      "metadata": {
        "id": "LdcWuB_4o1Nn"
      }
    },
    {
      "cell_type": "markdown",
      "source": [
        "\n",
        "Then the Integral of $f(x)$ is given by:\n",
        "> $I = \\int_{a}^{b} x \\sin^2(x) dx $\n",
        "\n",
        "\n",
        "> $I = \\large{ \\frac{x^2}{4}} - \\frac{1}{4} x \\sin(2x) -\\frac{1}{8} \\cos(2x)$\n",
        "\n",
        "\n",
        "\n"
      ],
      "metadata": {
        "id": "qXcSWGPWn0et"
      }
    },
    {
      "cell_type": "markdown",
      "source": [
        "Evaluated from: \n",
        ">$a=1$ and $b=2$\n",
        "\n",
        ">$I|_{1,2} = \\frac{1}{8} [6+2 \\sin(2) - 4 \\sin(4) + \\cos(2) - \\cos(4)]$\n",
        "\n",
        ">$I|_{1,2} = 1.3854$\n",
        "\n"
      ],
      "metadata": {
        "id": "irrzoBVHspnX"
      }
    },
    {
      "cell_type": "markdown",
      "source": [
        "Adaptive Trapezoidal Method:"
      ],
      "metadata": {
        "id": "vCIr5MPcLpGk"
      }
    },
    {
      "cell_type": "code",
      "source": [
        "import numpy as np\n",
        "f = lambda x: x*(np.sin(x))**2\n",
        "def trap_adapt(f,a,b,epsilon=1.0e-8):\n",
        "    def step(x1,x2,fx1,fx2):\n",
        "        x_mid = (x1 + x2)/2.0\n",
        "        fx_mid = f(x_mid)\n",
        "        h1 = x2 - x1\n",
        "        h2 = h1/2.0\n",
        "        I1 = (fx1 + fx2) * h1/2.0\n",
        "        I2 = (fx1 + 2*fx_mid + fx2) * h2/2.0\n",
        "        error = abs((I2-I1)/3.0)\n",
        "        if error <= h2*delta:\n",
        "            return I2\n",
        "        else:\n",
        "            return step(x1,x_mid,fx1,fx_mid)+step(x_mid,x2,fx_mid,fx2)\n",
        "    delta = epsilon/(b-a)\n",
        "    fa = f(a)\n",
        "    fb = f(b)\n",
        "    return step(a,b,fa,fb)\n",
        "\n",
        "print(trap_adapt(f,1,2))"
      ],
      "metadata": {
        "colab": {
          "base_uri": "https://localhost:8080/"
        },
        "id": "e5d_6zTLnxbr",
        "outputId": "e2190292-110c-45a2-d952-d4af90eeeafe"
      },
      "execution_count": 2,
      "outputs": [
        {
          "output_type": "stream",
          "name": "stdout",
          "text": [
            "1.3854127004760155\n"
          ]
        }
      ]
    },
    {
      "cell_type": "markdown",
      "source": [
        "This program works as follows:\n",
        "\n",
        "Let $f:R \\to R \\ $ be defined by $f(x)$, where $f(x)$ is a function whose integral must be approximated. \n",
        "\n",
        "The above code can make such an approximation via defining the step size recursively. The stepsize is given its own error tolerance, which is checked after every iteration, allowing for adjustments over intervals which require more percise measurements. \n",
        "\n",
        "On the first iteration, the function `trap_adapt` takes in the parameters $\\{f(x), a, b, ϵ\\}$, using them to calculate the following:\n",
        "\n",
        "* $δ = { ϵ \\over (b-a)}$ ; the target accuracy per step per domain of integration.  \n",
        "* $f(a)$ The image of a under $f$.\n",
        "* $f(b)$ The image of b under $f$.\n",
        "\n",
        "The values calcualted above $\\{ a, b, f(a), f(b) \\}$  are then passed as parameters $\\{a=x_1,b=x_2,f(a)=f(x_1),f(b)=f(x_2)\\}$ into `step`; The function embedded within `trap_adapt`.\n",
        "\n",
        "Inside `step` $\\{x_1,x_2,f(x_1),f(x_2)\\}$ are used to get the following values:\n",
        "\n",
        "* The midpoint of the interval of integration, with lower and upper bounds $x_1$ and $x_2$ such that $x_{mid}={x_1 + x_2 \\over 2}$.\n",
        "* The  image of the midpoint under $f$ at $f(x_{mid})=$  $f(\\frac {x_1 + x_2}{2})$.\n",
        "* An approximation via trapezoid rule with a single step $I_1 = \\frac{1}{2} [f(x_1) + f(x_2)] b - a$.\n",
        "* The domain of integration is split along $f(x_{mid})$ into two seperate integrals, each of width $b-a \\over 2$, both intervals are then approximated with the trapezoid rule: $I_2 = \\frac{1}{2} [f(x_1) + 2f(x_{mid}) + f(x_2)] \\frac{b-a}{2}$ where $I_2$ is the sum of both integrals.\n",
        "\n",
        "We now have values $\\{ x_{mid},f(x_{mid}),I_1,I_2 \\}$\n",
        "which we can use to calculate the error: $\\frac{1}{3}| I_2 - I_1 |$ which is then checked against the target error of each respective integral: $hδ$. This is the part that makes this method powerful. The error of each respective integral is checked against our error tolerance in order to see if the step size needs adjusting:\n",
        "\n",
        "* If $hδ \\ge  |\\frac{1}{3}I_2 - I_1 |$ is true, then `step` function returns $I_2$, as the integral of $f(x)$ is succesfully approximated for that interval.\n",
        "\n",
        "* If $hδ \\ge  |\\frac{1}{3}I_2 - I_1 |$ is false, then `step` uses recursion, reiterating the above process for smaller subdivisions of intervals over the interval which returned false. \n",
        "\n",
        "If the interval returns false, the profram essentially splits that specific interval of integration up into a sum of smaller integrals, repeating the above process for each area of the domain of integration that requires it untill our error tolerance is met. \n",
        "\n",
        "Some areas of $f$ will be be true while others false, depending on how quickly the change between respective images. A steep change (meaning a large amount of verticle distance between $f(x)$ and $f(x + Δx)$, over a small change in horizontal distance $x$ and $x + Δx$) will require smaller and more accurate domains of integration, spanning the interval in question.\n",
        "\n",
        "Your given error tolerance is used to determine wether or not a change in verticle distance is steep enough to merit modifying the step size for better results. \n",
        "\n",
        "The idea of this program is to essentially takes the integral of $f(x)$, split it into two integrals, sum those, then if nessecary split that interval into two more integrals and sum those, and so on and so forth, relative to a specific interval of integraiton. Some parts of f(x) will pass while others will fail, but you are never working with more than 2 steps at a time. Instead of increasing the number of steps, you are essentially breaking down the function into several integrals and summing up all their domains of integration, then returing that sum as your approximation."
      ],
      "metadata": {
        "id": "sVOp5P4RCFiS"
      }
    }
  ]
}